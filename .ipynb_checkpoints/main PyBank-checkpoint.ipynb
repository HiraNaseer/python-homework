{
 "cells": [
  {
   "cell_type": "code",
   "execution_count": null,
   "id": "5880a662-88b5-4fc7-9b60-c1e308b782af",
   "metadata": {
    "tags": []
   },
   "outputs": [],
   "source": [
    "#The total number of months included in the dataset.\n",
    "# import csv module\n",
    "import csv\n",
    "\n",
    "# csv file name\n",
    "filename = \"budget_data.csv\"\n",
    "\n",
    "#initializing the titles and rows list\n",
    "fields = []\n",
    "rows = []\n",
    "month_count = 0\n",
    "net_total = 0\n",
    "list_net_change = []\n",
    "\n",
    "\n",
    "#reading csv file\n",
    "with open(filename, 'r') as csvfile:\n",
    "    #creating a csv reader object\n",
    "    csvreader = csv.reader(csvfile)\n",
    "    \n",
    "    #extracting field names through first row\n",
    "    fields = next(csvreader)\n",
    "    first_row = next(csvreader)\n",
    "    month_count = month_count + 1 \n",
    "    net_total = net_total + int(first_row[1])\n",
    "    previous_net = int(first_row[1])\n",
    "     \n",
    "    # extracting each data row one by one\n",
    "    for row in csvreader:\n",
    "        month_count = month_count + 1\n",
    "        net_total = net_total + int(row[1])\n",
    "        net_change = int(row[1]) - previous_net\n",
    "        previous_net = int(row[1])\n",
    "        list_net_change = list_net_change + [net_change]\n",
    "            \n",
    "av_month = month_count - 1\n",
    "        \n",
    "#get total number of months\n",
    "print(\"Total Months\", month_count)\n",
    "\n",
    "# The net total amount of Profit/Losses over the entire perio\n",
    "print(\"Total $\", net_total)\n",
    "\n",
    "#The average of the changes in Profit/Losses over the entire period.\n",
    "print(net_change)\n",
    "print(list_net_change)\n",
    "\n",
    "#The greatest increase in profits (date and amount) over the entire period.\n",
    "print(\"The greatest increase in profits is $\", max(list_net_change))\n",
    "\n",
    "#The greatest decrease in losses (date and amount) over the entire period.\n",
    "print(\"The greatest decrease in losses is $\", min(list_net_change))\n",
    "                       "
   ]
  },
  {
   "cell_type": "code",
   "execution_count": null,
   "id": "66c38738-cb02-4916-a51e-fec61a2e6d6b",
   "metadata": {
    "tags": []
   },
   "outputs": [],
   "source": [
    "#The average of the changes in Profit/Losses over the entire period.\n",
    "monthly_change = round(sum(list_net_change)/len(list_net_change), 2)\n",
    "print(f\"$ {monthly_change}\")"
   ]
  },
  {
   "cell_type": "code",
   "execution_count": null,
   "id": "ca9e24a7-72d2-434c-9b63-c41b6cd21217",
   "metadata": {
    "tags": []
   },
   "outputs": [],
   "source": [
    "len(list_net_change)\n",
    "print(len(list_net_change))"
   ]
  },
  {
   "cell_type": "code",
   "execution_count": 32,
   "id": "cc0f0336-18c6-476f-a348-dc7c312406ad",
   "metadata": {},
   "outputs": [
    {
     "name": "stdout",
     "output_type": "stream",
     "text": [
      "Total Months 86\n",
      "Total $ 38382578\n",
      "Average Change $ -2315.12\n",
      "The greatest increase in profits is $ 1926159\n",
      "The greatest decrease in losses is $ -2196167\n"
     ]
    }
   ],
   "source": [
    "#Financial Anaylsis\n",
    "print(\"Total Months\", month_count)\n",
    "print(\"Total $\", net_total)\n",
    "monthly_change = round(sum(list_net_change)/len(list_net_change), 2)\n",
    "len(list_net_change)\n",
    "print(f\"Average Change $ {monthly_change}\")\n",
    "print(\"The greatest increase in profits is $\", max(list_net_change))\n",
    "print(\"The greatest decrease in losses is $\", min(list_net_change))\n"
   ]
  },
  {
   "cell_type": "code",
   "execution_count": null,
   "id": "bfe65f73-f2d0-4afc-a130-bb8baac7c639",
   "metadata": {},
   "outputs": [],
   "source": [
    "max_delta = max(list_net_change)\n",
    "display(max_delta)\n",
    "\n",
    "min_delta = min(list_net_change)\n",
    "display(min_delta)\n",
    "\n",
    "max_index = fields.index(max_delta)\n",
    "display(max_delta)\n",
    "\n",
    "min_index = fields.index(min_delta)\n",
    "display(min_delta)"
   ]
  },
  {
   "cell_type": "code",
   "execution_count": 38,
   "id": "3840f3ef-cc9f-4995-a0fe-14edc733ee9a",
   "metadata": {},
   "outputs": [],
   "source": [
    "f = open(\"mainPyBank.txt\", \"a\")"
   ]
  }
 ],
 "metadata": {
  "kernelspec": {
   "display_name": "Python 3",
   "language": "python",
   "name": "python3"
  },
  "language_info": {
   "codemirror_mode": {
    "name": "ipython",
    "version": 3
   },
   "file_extension": ".py",
   "mimetype": "text/x-python",
   "name": "python",
   "nbconvert_exporter": "python",
   "pygments_lexer": "ipython3",
   "version": "3.8.8"
  }
 },
 "nbformat": 4,
 "nbformat_minor": 5
}
