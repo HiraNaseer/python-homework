{
 "cells": [
  {
   "cell_type": "code",
   "execution_count": 37,
   "id": "04f9b16a-7983-4cb0-8ec9-3f88c04274f1",
   "metadata": {},
   "outputs": [],
   "source": [
    "# import csv module\n",
    "import csv\n",
    "\n",
    "# csv file name\n",
    "filename = \"budget_data.csv\"\n",
    "\n",
    "#initializing the titles and rows list\n",
    "fields = []\n",
    "rows = []\n",
    "\n",
    "#reading csv file\n",
    "with open(filename, 'r') as csvfile:\n",
    "    #creating a csv reader object\n",
    "    csvreader = csv.reader(csvfile)\n",
    "    \n",
    "    #extracting field names through first row\n",
    "    fields = next(csvreader)\n",
    "    \n",
    "    # extracting each data row one by one\n",
    "    for row in csvreader:\n",
    "        rows.append(row)"
   ]
  },
  {
   "cell_type": "code",
   "execution_count": null,
   "id": "3cd1f3f1-0e83-4046-9ded-34c181559eb6",
   "metadata": {},
   "outputs": [],
   "source": []
  }
 ],
 "metadata": {
  "kernelspec": {
   "display_name": "Python 3",
   "language": "python",
   "name": "python3"
  },
  "language_info": {
   "codemirror_mode": {
    "name": "ipython",
    "version": 3
   },
   "file_extension": ".py",
   "mimetype": "text/x-python",
   "name": "python",
   "nbconvert_exporter": "python",
   "pygments_lexer": "ipython3",
   "version": "3.8.8"
  }
 },
 "nbformat": 4,
 "nbformat_minor": 5
}
