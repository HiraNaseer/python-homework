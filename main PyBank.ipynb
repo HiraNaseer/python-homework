{
 "cells": [
  {
   "cell_type": "code",
   "execution_count": 3,
   "id": "5880a662-88b5-4fc7-9b60-c1e308b782af",
   "metadata": {},
   "outputs": [
    {
     "name": "stdout",
     "output_type": "stream",
     "text": [
      "Total Months 86\n",
      "Total $ 38382578\n",
      "532869\n",
      "[116771, -662642, -391430, 379920, 212354, 510239, -428211, -821271, 693918, 416278, -974163, 860159, -1115009, 1033048, 95318, -308093, 99052, -521393, 605450, 231727, -65187, -702716, 177975, -1065544, 1926159, -917805, 898730, -334262, -246499, -64055, -1529236, 1497596, 304914, -635801, 398319, -183161, -37864, -253689, 403655, 94168, 306877, -83000, 210462, -2196167, 1465222, -956983, 1838447, -468003, -64602, 206242, -242155, -449079, 315198, 241099, 111540, 365942, -219310, -368665, 409837, 151210, -110244, -341938, -1212159, 683246, -70825, 335594, 417334, -272194, -236462, 657432, -211262, -128237, -1750387, 925441, 932089, -311434, 267252, -1876758, 1733696, 198551, -665765, 693229, -734926, 77242, 532869]\n"
     ]
    }
   ],
   "source": [
    "#The total number of months included in the dataset.\n",
    "# import csv module\n",
    "import csv\n",
    "\n",
    "# csv file name\n",
    "filename = \"budget_data.csv\"\n",
    "\n",
    "#initializing the titles and rows list\n",
    "fields = []\n",
    "rows = []\n",
    "month_count = 0\n",
    "net_total = 0\n",
    "list_net_change = []\n",
    "\n",
    "#reading csv file\n",
    "with open(filename, 'r') as csvfile:\n",
    "    #creating a csv reader object\n",
    "    csvreader = csv.reader(csvfile)\n",
    "    \n",
    "    #extracting field names through first row\n",
    "    fields = next(csvreader)\n",
    "    first_row = next(csvreader)\n",
    "    month_count = month_count + 1 \n",
    "    net_total = net_total + int(first_row[1])\n",
    "    previous_net = int(first_row[1])\n",
    "     \n",
    "    # extracting each data row one by one\n",
    "    for row in csvreader:\n",
    "        month_count = month_count + 1\n",
    "        net_total = net_total + int(row[1])\n",
    "        net_change = int(row[1]) - previous_net\n",
    "        previous_net = int(row[1])\n",
    "        list_net_change.append(net_change)\n",
    "        \n",
    "        if net_change >\n",
    "\n",
    "av_month = month_count - 1\n",
    "        \n",
    "#get total number of months\n",
    "print(\"Total Months\", month_count)\n",
    "\n",
    "# The net total amount of Profit/Losses over the entire perio\n",
    "print(\"Total $\", net_total)\n",
    "\n",
    "#The average of the changes in Profit/Losses over the entire period.\n",
    "print(net_change)\n",
    "print(list_net_change)\n"
   ]
  },
  {
   "cell_type": "code",
   "execution_count": 9,
   "id": "66c38738-cb02-4916-a51e-fec61a2e6d6b",
   "metadata": {},
   "outputs": [
    {
     "name": "stdout",
     "output_type": "stream",
     "text": [
      "-2315.12\n"
     ]
    }
   ],
   "source": [
    "#The average of the changes in Profit/Losses over the entire period.\n",
    "monthly_change = round(sum(list_net_change)/len(list_net_change), 2)\n",
    "print(monthly_change)"
   ]
  },
  {
   "cell_type": "code",
   "execution_count": null,
   "id": "86359dce-8a39-4e55-a860-3cece245ab96",
   "metadata": {},
   "outputs": [],
   "source": []
  },
  {
   "cell_type": "code",
   "execution_count": 2,
   "id": "3a9b78e4-56b2-4c5b-a9a5-72345bac1fda",
   "metadata": {},
   "outputs": [
    {
     "ename": "IndexError",
     "evalue": "list index out of range",
     "output_type": "error",
     "traceback": [
      "\u001b[1;31m---------------------------------------------------------------------------\u001b[0m",
      "\u001b[1;31mIndexError\u001b[0m                                Traceback (most recent call last)",
      "\u001b[1;32m<ipython-input-2-f7e8c9198c1e>\u001b[0m in \u001b[0;36m<module>\u001b[1;34m\u001b[0m\n\u001b[1;32m----> 1\u001b[1;33m \u001b[0mlist_net_change\u001b[0m \u001b[1;33m[\u001b[0m\u001b[1;36m0\u001b[0m\u001b[1;33m]\u001b[0m\u001b[1;33m\u001b[0m\u001b[1;33m\u001b[0m\u001b[0m\n\u001b[0m\u001b[0;32m      2\u001b[0m \u001b[0mprint\u001b[0m\u001b[1;33m(\u001b[0m\u001b[0mlist_net_change\u001b[0m\u001b[1;33m[\u001b[0m\u001b[1;36m0\u001b[0m\u001b[1;33m]\u001b[0m\u001b[1;33m)\u001b[0m\u001b[1;33m\u001b[0m\u001b[1;33m\u001b[0m\u001b[0m\n",
      "\u001b[1;31mIndexError\u001b[0m: list index out of range"
     ]
    }
   ],
   "source": [
    "list_net_change [0]\n",
    "print(list_net_change[0])"
   ]
  },
  {
   "cell_type": "code",
   "execution_count": 8,
   "id": "ca9e24a7-72d2-434c-9b63-c41b6cd21217",
   "metadata": {},
   "outputs": [
    {
     "name": "stdout",
     "output_type": "stream",
     "text": [
      "85\n"
     ]
    }
   ],
   "source": [
    "len(list_net_change)\n",
    "print(len(list_net_change))"
   ]
  },
  {
   "cell_type": "code",
   "execution_count": null,
   "id": "860095f6-64da-46b0-bcd9-4db84ffd2c47",
   "metadata": {},
   "outputs": [],
   "source": [
    "#The average of the changes in Profit/Losses over the entire period.\n",
    "print( rows[0][1])\n",
    "print( rows[1][1])\n",
    "sum3 = 0\n",
    "av_month = month - 1\n",
    "\n",
    "for x in range (len(rows)):\n",
    "    sum4 = int(rows[x][1])\n",
    "    sum3 = sum4 - sum3\n",
    "    \n",
    "average = round(sum3/av_month)\n",
    "\n",
    "print(\"Average Change\", average)"
   ]
  }
 ],
 "metadata": {
  "kernelspec": {
   "display_name": "Python 3",
   "language": "python",
   "name": "python3"
  },
  "language_info": {
   "codemirror_mode": {
    "name": "ipython",
    "version": 3
   },
   "file_extension": ".py",
   "mimetype": "text/x-python",
   "name": "python",
   "nbconvert_exporter": "python",
   "pygments_lexer": "ipython3",
   "version": "3.8.8"
  }
 },
 "nbformat": 4,
 "nbformat_minor": 5
}
