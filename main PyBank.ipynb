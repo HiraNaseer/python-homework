{
 "cells": [
  {
   "cell_type": "code",
   "execution_count": 72,
   "id": "5880a662-88b5-4fc7-9b60-c1e308b782af",
   "metadata": {},
   "outputs": [
    {
     "name": "stdout",
     "output_type": "stream",
     "text": [
      "Total number of lines in the database:87\n",
      "Total Months 86\n"
     ]
    }
   ],
   "source": [
    "# import csv module\n",
    "import csv\n",
    "\n",
    "# csv file name\n",
    "filename = \"budget_data.csv\"\n",
    "\n",
    "#initializing the titles and rows list\n",
    "fields = []\n",
    "rows = []\n",
    "\n",
    "#reading csv file\n",
    "with open(filename, 'r') as csvfile:\n",
    "    #creating a csv reader object\n",
    "    csvreader = csv.reader(csvfile)\n",
    "    \n",
    "    #extracting field names through first row\n",
    "    fields = next(csvreader)\n",
    "    \n",
    "    # extracting each data row one by one\n",
    "    for row in csvreader:\n",
    "        rows.append(row)\n",
    "        \n",
    "    #get total number of months\n",
    "    print(\"Total number of lines in the database:%d\"%(csvreader.line_num))\n",
    "\n",
    "with open(filename, 'r') as csvfile:\n",
    "    #creating a csv reader object\n",
    "    xy = csv.reader(csvfile);\n",
    "    month = len(list(xy)) - 1\n",
    "    print(\"Total Months\", month)"
   ]
  },
  {
   "cell_type": "code",
   "execution_count": 76,
   "id": "66c38738-cb02-4916-a51e-fec61a2e6d6b",
   "metadata": {},
   "outputs": [
    {
     "name": "stdout",
     "output_type": "stream",
     "text": [
      "867884\n",
      "984655\n",
      "Total 38382578\n"
     ]
    }
   ],
   "source": [
    "print( rows[0][1])\n",
    "print( rows[1][1])\n",
    "sum2 = 0\n",
    "\n",
    "for x in range (len(rows)):\n",
    "    sum1 = int(rows[x][1])\n",
    "    sum2 = sum1 + sum2\n",
    "    # print(sum2\n",
    "    # print(rows[x][1])\n",
    "print(\"Total\", sum2)"
   ]
  },
  {
   "cell_type": "code",
   "execution_count": null,
   "id": "860095f6-64da-46b0-bcd9-4db84ffd2c47",
   "metadata": {},
   "outputs": [],
   "source": []
  }
 ],
 "metadata": {
  "kernelspec": {
   "display_name": "Python 3",
   "language": "python",
   "name": "python3"
  },
  "language_info": {
   "codemirror_mode": {
    "name": "ipython",
    "version": 3
   },
   "file_extension": ".py",
   "mimetype": "text/x-python",
   "name": "python",
   "nbconvert_exporter": "python",
   "pygments_lexer": "ipython3",
   "version": "3.8.8"
  }
 },
 "nbformat": 4,
 "nbformat_minor": 5
}
