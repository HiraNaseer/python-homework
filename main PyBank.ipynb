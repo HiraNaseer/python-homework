{
 "cells": [
  {
   "cell_type": "code",
   "execution_count": 38,
   "id": "04f9b16a-7983-4cb0-8ec9-3f88c04274f1",
   "metadata": {},
   "outputs": [
    {
     "ename": "SyntaxError",
     "evalue": "EOL while scanning string literal (<ipython-input-38-b62344a5662d>, line 24)",
     "output_type": "error",
     "traceback": [
      "\u001b[1;36m  File \u001b[1;32m\"<ipython-input-38-b62344a5662d>\"\u001b[1;36m, line \u001b[1;32m24\u001b[0m\n\u001b[1;33m    print(\"Total no. of months: %d\"%(csvreader.line_num)\")\u001b[0m\n\u001b[1;37m                                                          ^\u001b[0m\n\u001b[1;31mSyntaxError\u001b[0m\u001b[1;31m:\u001b[0m EOL while scanning string literal\n"
     ]
    }
   ],
   "source": [
    "# import csv module\n",
    "import csv\n",
    "\n",
    "# csv file name\n",
    "filename = \"budget_data.csv\"\n",
    "\n",
    "#initializing the titles and rows list\n",
    "fields = []\n",
    "rows = []\n",
    "\n",
    "#reading csv file\n",
    "with open(filename, 'r') as csvfile:\n",
    "    #creating a csv reader object\n",
    "    csvreader = csv.reader(csvfile)\n",
    "    \n",
    "    #extracting field names through first row\n",
    "    fields = next(csvreader)\n",
    "    \n",
    "    # extracting each data row one by one\n",
    "    for row in csvreader:\n",
    "        rows.append(row)\n",
    "        \n",
    "    #get total number of months\n",
    "    print(\"Total no. of months: %d\"%(csvreader.line_num)\")\n",
    "          \n",
    "print(rows[1[1]])    "
   ]
  },
  {
   "cell_type": "code",
   "execution_count": null,
   "id": "3cd1f3f1-0e83-4046-9ded-34c181559eb6",
   "metadata": {},
   "outputs": [],
   "source": []
  }
 ],
 "metadata": {
  "kernelspec": {
   "display_name": "Python 3",
   "language": "python",
   "name": "python3"
  },
  "language_info": {
   "codemirror_mode": {
    "name": "ipython",
    "version": 3
   },
   "file_extension": ".py",
   "mimetype": "text/x-python",
   "name": "python",
   "nbconvert_exporter": "python",
   "pygments_lexer": "ipython3",
   "version": "3.8.8"
  }
 },
 "nbformat": 4,
 "nbformat_minor": 5
}
